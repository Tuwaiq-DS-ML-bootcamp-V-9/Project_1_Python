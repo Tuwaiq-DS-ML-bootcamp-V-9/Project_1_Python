{
 "cells": [
  {
   "cell_type": "markdown",
   "metadata": {},
   "source": [
    "# Add The data"
   ]
  },
  {
   "cell_type": "code",
   "execution_count": null,
   "metadata": {},
   "outputs": [],
   "source": [
    "metro_stations = {}\n",
    "\n",
    "\n",
    "def add_station(metro_dict, station, shop, category, distance, rating):\n",
    "   \n",
    "    if station not in metro_dict:\n",
    "        metro_dict[station] = {}  \n",
    "    \n",
    "    metro_dict[station][shop] = {\n",
    "        \"category\": category,\n",
    "        \"distance\": int(distance),  \n",
    "        \"rating\": rating\n",
    "    }\n",
    "\n",
    "#metro_stations = {\n",
    "    #\"King Saud University\": {  # First dictionary (keys: metro stations)\n",
    "     #   \"Maliha\": {  # Second dictionary (keys: shop names)\n",
    "     #       \"category\": \"Cafe\",  # Third dictionary (shop details)\n",
    "      #      \"distance\": 13,\n",
    "      #      \"rating\": 4.3\n",
    "       # },\n",
    "       # \"Bo Burger\": {  # Second dictionary (keys: shop names)\n",
    "       #     \"category\": \"Restaurant\",  # Third dictionary (shop details)\n",
    "       #     \"distance\": 14,\n",
    "       #     \"rating\": 4.7\n",
    "       # }\n",
    "\n",
    "\n",
    "\n",
    "\n",
    "\n",
    "add_station(metro_stations, \"King Saud University\", \"Maliha\", \"Cafe\", 13, 4.3)\n",
    "add_station(metro_stations, \"King Saud University\", \"Bo Burger\", \"Restaurant\", 14, 4.7)\n",
    "add_station(metro_stations, \"King Saud University\", \"BRNX Pizza\", \"Restaurant\", 12, 4.2)\n",
    "add_station(metro_stations, \"King Saud University\", \"The Coffee Address\", \"Cafe\", 19, 4.3)\n",
    "\n",
    "add_station(metro_stations, \"King Salman Oasis\", \"Shots\", \"Cafe\", 46, 3.9)\n",
    "add_station(metro_stations, \"King Salman Oasis\", \"Subway\", \"Restaurant\", 7, 3.9)\n",
    "add_station(metro_stations, \"King Salman Oasis\", \"Burger Castle\", \"Restaurant\", 8, 4.1)\n",
    "add_station(metro_stations, \"King Salman Oasis\", \"Social Cafe & Roastery\", \"Cafe\", 41, 3.8)\n",
    "\n",
    "add_station(metro_stations, \"KACST\", \"Masami Sushi\", \"Restaurant\", 5, 3.9)\n",
    "add_station(metro_stations, \"KACST\", \"Grill It\", \"Restaurant\", 6, 3.8)\n",
    "add_station(metro_stations, \"KACST\", \"Starbucks\", \"Cafe\", 3, 4.4)\n",
    "add_station(metro_stations, \"KACST\", \"Beanery Cafe\", \"Cafe\", 7, 4.7)\n",
    "\n",
    "add_station(metro_stations, \"At Takhassousi\", \"Mama Nourah\", \"Restaurant\", 4, 4.2)\n",
    "add_station(metro_stations, \"At Takhassousi\", \"Makani\", \"Restaurant\", 5, 3.3)\n",
    "add_station(metro_stations, \"At Takhassousi\", \"House of Matcha\", \"Cafe\", 3, 4.4)\n",
    "add_station(metro_stations, \"At Takhassousi\", \"Sultan Coffee\", \"Cafe\", 5, 3.9)\n",
    "\n",
    "add_station(metro_stations, \"Alwurud\", \"La Pizza\", \"Restaurant\", 11, 4.0)\n",
    "add_station(metro_stations, \"Alwurud\", \"Ramli Cafe\", \"Cafe\", 14, 4.5)\n",
    "add_station(metro_stations, \"Alwurud\", \"Albahsaly Palace Restaurant\", \"Restaurant\", 10, 3.5)\n",
    "add_station(metro_stations, \"Alwurud\", \"Camfy\", \"Cafe\", 12, 4.6)\n",
    "\n",
    "add_station(metro_stations, \"King Abdulaziz Road\", \"Half Million\", \"Cafe\", 6, 4.1)\n",
    "add_station(metro_stations, \"King Abdulaziz Road\", \"Chick N Bun\", \"Restaurant\", 7, 3.7)\n",
    "add_station(metro_stations, \"King Abdulaziz Road\", \"Cafe NAI\", \"Cafe\", 11, 3.9)\n",
    "add_station(metro_stations, \"King Abdulaziz Road\", \"Naughty Bird\", \"Restaurant\", 7, 3.0)\n",
    "\n",
    "add_station(metro_stations, \"King Fahad Stadium\", \"RED Food Street\", \"Restaurant\", 26, 4.4)\n",
    "add_station(metro_stations, \"King Fahad Stadium\", \"Najed Restaurant\", \"Restaurant\", 16, 4.2)\n",
    "add_station(metro_stations, \"King Fahad Stadium\", \"Bid Coffee\", \"Cafe\", 12, 4.5)\n",
    "add_station(metro_stations, \"King Fahad Stadium\", \"Archi\", \"Cafe\", 38, 3.9)\n",
    "\n",
    "add_station(metro_stations, \"City Center Ishbiliyah\", \"Subway\", \"Restaurant\", 21, 4.0)\n",
    "add_station(metro_stations, \"City Center Ishbiliyah\", \"Casapasta\", \"Restaurant\", 42, 4.3)\n",
    "add_station(metro_stations, \"City Center Ishbiliyah\", \"Costa Coffee\", \"Cafe\", 39, 4.1)\n",
    "add_station(metro_stations, \"City Center Ishbiliyah\", \"Dunkin\", \"Cafe\", 10, 4.1)\n",
    "\n",
    "add_station(metro_stations, \"Al Khaleej Metro Station\", \"Diet Coach\", \"Restaurant\", 5, 4.7)\n",
    "add_station(metro_stations, \"Al Khaleej Metro Station\", \"Herfy\", \"Restaurant\", 7, 3.8)\n",
    "add_station(metro_stations, \"Al Khaleej Metro Station\", \"Midnight Coffee\", \"Cafe\", 13, 3.7)\n",
    "add_station(metro_stations, \"Al Khaleej Metro Station\", \"The Coffee Address\", \"Cafe\", 13, 4.1)\n",
    "\n",
    "add_station(metro_stations, \"Khalid Bin Akwakeed Road\", \"TGI Friday's\", \"Restaurant\", 3, 4.1)\n",
    "add_station(metro_stations, \"Khalid Bin Akwakeed Road\", \"Fed n Full\", \"Restaurant\", 4, 4.2)\n",
    "add_station(metro_stations, \"Khalid Bin Akwakeed Road\", \"Mind Break\", \"Cafe\", 7, 4.4)\n",
    "add_station(metro_stations, \"Khalid Bin Akwakeed Road\", \"Starbucks\", \"Cafe\", 5, 4.1)\n",
    "\n",
    "add_station(metro_stations, \"Riyadh Exhibition Center\", \"Al Diriyah Restaurant\", \"Restaurant\", 4, 4.6)\n",
    "add_station(metro_stations, \"Riyadh Exhibition Center\", \"Piatto Restaurant\", \"Restaurant\", 9, 4.2)\n",
    "add_station(metro_stations, \"Riyadh Exhibition Center\", \"TUXEDO Coffee\", \"Cafe\", 9, 4.3)\n",
    "add_station(metro_stations, \"Riyadh Exhibition Center\", \"COVO Artisan Coffee\", \"Cafe\", 19, 4.7)\n",
    "\n",
    "add_station(metro_stations, \"AlNuzha Metro\", \"Najd Village\", \"Restaurant\", 18, 4.0)\n",
    "add_station(metro_stations, \"AlNuzha Metro\", \"Yerivian Restaurant\", \"Restaurant\", 913, 4.2)\n",
    "add_station(metro_stations, \"AlNuzha Metro\", \"Knoll Coffee Roasters\", \"Cafe\", 24, 4.5)\n",
    "add_station(metro_stations, \"AlNuzha Metro\", \"Locale Coffee\", \"Cafe\", 27, 3.8)\n",
    "\n",
    "add_station(metro_stations, \"Ministry of Education\", \"Al Tazaj\", \"Restaurant\", 19, 4.9)\n",
    "add_station(metro_stations, \"Ministry of Education\", \"Swiss Butter\", \"Restaurant\", 18, 4.6)\n",
    "add_station(metro_stations, \"Ministry of Education\", \"FELT\", \"Cafe\", 24, 4.4)\n",
    "add_station(metro_stations, \"Ministry of Education\", \"Bean Here\", \"Cafe\", 10, 4.5)\n",
    "\n",
    "\n",
    "add_station(metro_stations, \"Al Hamra\", \"Bayaz\", \"Restaurant\", 5, 3.9)\n",
    "add_station(metro_stations, \"Al Hamra\", \"Sbarro Hamra Mall\", \"Restaurant\", 5, 3.3)\n",
    "add_station(metro_stations, \"Al Hamra\", \"Rimthan Coffee\", \"Cafe\", 1, 4.9)\n",
    "add_station(metro_stations, \"Al Hamra\", \"Elixir Bunn Coffee\", \"Cafe\", 6, 4.1)\n",
    "\n",
    "\n"
   ]
  },
  {
   "cell_type": "markdown",
   "metadata": {},
   "source": [
    "#  Function show nearby options : output restaurant and cafe "
   ]
  },
  {
   "cell_type": "code",
   "execution_count": 79,
   "metadata": {},
   "outputs": [
    {
     "name": "stdout",
     "output_type": "stream",
     "text": [
      "   📍 Najd Village\n",
      "      📏 Distance: 18 min\n",
      "      ⭐ Rating: 4.0/5\n",
      "      🍽️ Type: Restaurant\n",
      "\n",
      "   📍 Yerivian Restaurant\n",
      "      📏 Distance: 913 min\n",
      "      ⭐ Rating: 4.2/5\n",
      "      🍽️ Type: Restaurant\n",
      "\n",
      "   📍 Knoll Coffee Roasters\n",
      "      📏 Distance: 24 min\n",
      "      ⭐ Rating: 4.5/5\n",
      "      🍽️ Type: Cafe\n",
      "\n",
      "   📍 Locale Coffee\n",
      "      📏 Distance: 27 min\n",
      "      ⭐ Rating: 3.8/5\n",
      "      🍽️ Type: Cafe\n",
      "\n"
     ]
    }
   ],
   "source": [
    "def show_nearby_options(name_of_station):\n",
    "    if name_of_station in metro_stations:\n",
    "        for res,details in metro_stations[name_of_station].items():\n",
    "            print(f\"   📍 {res}\")\n",
    "            print(f\"      📏 Distance: {details['distance']} min\")\n",
    "            print(f\"      ⭐ Rating: {details['rating']}/5\")\n",
    "            print(f\"      🍽️ Type: {details['category']}\\n\")\n",
    "    else:\n",
    "        print(\"The name of station is wrong\")\n",
    "\n",
    "\n",
    "\n",
    "\n",
    "\n",
    "\n",
    "\n",
    "\n",
    "show_nearby_options(\"AlNuzha Metro\")"
   ]
  },
  {
   "cell_type": "markdown",
   "metadata": {},
   "source": [
    "# Function find stations using option :output name of stations "
   ]
  },
  {
   "cell_type": "code",
   "execution_count": 77,
   "metadata": {},
   "outputs": [
    {
     "name": "stdout",
     "output_type": "stream",
     "text": [
      "The Piatto Restaurant is nearby Riyadh Exhibition Center \n"
     ]
    }
   ],
   "source": [
    "def show_nearby_stations(name_of_restorcafe):\n",
    "    for sta,place in metro_stations.items():\n",
    "        for res,details in place.items():\n",
    "            if res.lower() == name_of_restorcafe.lower():\n",
    "                return print(f\"The {res} is nearby {sta} \")\n",
    "    return print(f\"there no station near from {name_of_restorcafe}\")        \n",
    "    \n",
    "show_nearby_stations(\"Piatto Restaurant\")"
   ]
  },
  {
   "cell_type": "markdown",
   "metadata": {},
   "source": [
    "# lambda sotr by rate\n"
   ]
  },
  {
   "cell_type": "code",
   "execution_count": 78,
   "metadata": {},
   "outputs": [
    {
     "data": {
      "text/plain": [
       "[('COVO Artisan Coffee', {'category': 'Cafe', 'distance': 19, 'rating': 4.7}),\n",
       " ('Al Diriyah Restaurant',\n",
       "  {'category': 'Restaurant', 'distance': 4, 'rating': 4.6}),\n",
       " ('TUXEDO Coffee', {'category': 'Cafe', 'distance': 9, 'rating': 4.3}),\n",
       " ('Piatto Restaurant',\n",
       "  {'category': 'Restaurant', 'distance': 9, 'rating': 4.2})]"
      ]
     },
     "execution_count": 78,
     "metadata": {},
     "output_type": "execute_result"
    }
   ],
   "source": [
    "sort_by_rate=lambda station: sorted(metro_stations[station].items(),key=lambda x:x[1][\"rating\"],reverse=True)\n",
    "\n",
    "sort_by_rate(\"Riyadh Exhibition Center\")"
   ]
  },
  {
   "cell_type": "markdown",
   "metadata": {},
   "source": [
    "# lambda sotr by distance \n"
   ]
  },
  {
   "cell_type": "code",
   "execution_count": 72,
   "metadata": {},
   "outputs": [
    {
     "data": {
      "text/plain": [
       "[('Starbucks', {'category': 'Cafe', 'distance': 3, 'rating': 4.4}),\n",
       " ('Masami Sushi', {'category': 'Restaurant', 'distance': 5, 'rating': 3.9}),\n",
       " ('Grill It', {'category': 'Restaurant', 'distance': 6, 'rating': 3.8}),\n",
       " ('Beanery Cafe', {'category': 'Cafe', 'distance': 7, 'rating': 4.7})]"
      ]
     },
     "execution_count": 72,
     "metadata": {},
     "output_type": "execute_result"
    }
   ],
   "source": [
    "sort_by_distance=lambda station: sorted(metro_stations[station].items(),key=lambda x:x[1][\"distance\"])\n",
    "\n",
    "sort_by_distance(\"KACST\")"
   ]
  },
  {
   "cell_type": "markdown",
   "metadata": {},
   "source": [
    "# Method filter by category"
   ]
  },
  {
   "cell_type": "code",
   "execution_count": 73,
   "metadata": {},
   "outputs": [
    {
     "data": {
      "text/plain": [
       "{'Starbucks': {'category': 'Cafe', 'distance': 3, 'rating': 4.4},\n",
       " 'Beanery Cafe': {'category': 'Cafe', 'distance': 7, 'rating': 4.7}}"
      ]
     },
     "execution_count": 73,
     "metadata": {},
     "output_type": "execute_result"
    }
   ],
   "source": [
    "def filter_by_category(station, category):\n",
    "    options = metro_stations.get(station,{})\n",
    "\n",
    "    if not options :\n",
    "        return {\"error\": \"Station not found\"}\n",
    "\n",
    "    if not any(info['category'] == category for info in options.values()):\n",
    "        return {\"error\": \"Category not found in this station\"}\n",
    "\n",
    "    filtered_items = filter(lambda item: item[1][\"category\"] == category, options.items())\n",
    "\n",
    "    return {name: info for name, info in filtered_items}\n",
    "\n",
    "\n",
    "filter_by_category(\"KACST\",\"Cafe\")"
   ]
  }
 ],
 "metadata": {
  "kernelspec": {
   "display_name": ".venv",
   "language": "python",
   "name": "python3"
  },
  "language_info": {
   "codemirror_mode": {
    "name": "ipython",
    "version": 3
   },
   "file_extension": ".py",
   "mimetype": "text/x-python",
   "name": "python",
   "nbconvert_exporter": "python",
   "pygments_lexer": "ipython3",
   "version": "3.13.1"
  }
 },
 "nbformat": 4,
 "nbformat_minor": 2
}
